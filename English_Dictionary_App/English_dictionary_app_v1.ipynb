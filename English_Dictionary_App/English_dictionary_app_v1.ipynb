{
 "cells": [
  {
   "cell_type": "code",
   "execution_count": 6,
   "id": "293de701",
   "metadata": {
    "scrolled": true
   },
   "outputs": [
    {
     "name": "stdout",
     "output_type": "stream",
     "text": [
      "Welcome to Dictionary app\n",
      "Please select your choice\n",
      "1. Add a word\n",
      "2. Find the meaning\n",
      "3. Update the word\n",
      "4. Exit\n",
      "************************************************************\n",
      "Enter your option : 1\n",
      "Enter the word to add to dictionary :8\n",
      "enter its meaning :eight\n",
      "************************************************************\n",
      "Welcome to Dictionary app\n",
      "Please select your choice\n",
      "1. Add a word\n",
      "2. Find the meaning\n",
      "3. Update the word\n",
      "4. Exit\n",
      "************************************************************\n",
      "Enter your option : 2\n",
      "Enter the word : 8\n",
      "The meaning is :  eight\n",
      "************************************************************\n",
      "Welcome to Dictionary app\n",
      "Please select your choice\n",
      "1. Add a word\n",
      "2. Find the meaning\n",
      "3. Update the word\n",
      "4. Exit\n",
      "************************************************************\n",
      "Enter your option : \n",
      "no option selected ! \n",
      "************************************************************\n"
     ]
    }
   ],
   "source": [
    "import json\n",
    "def ques():\n",
    "    import json\n",
    "    print(\"Welcome to Dictionary app\")\n",
    "    print(\"Please select your choice\")\n",
    "    print(\"1. Add a word\")\n",
    "    print(\"2. Find the meaning\")\n",
    "    print(\"3. Update the word\")\n",
    "    print(\"4. Exit\")\n",
    "    print(\"*\"*60)\n",
    "    \n",
    "    \n",
    "def update():\n",
    "    f = open('word.txt','w')\n",
    "    word = input('Enter the word to add to dictionary :')\n",
    "    meaning=input('enter its meaning :')\n",
    "    words_collected[word] = meaning\n",
    "    json.dump(words_collected,f)\n",
    "    f.close()\n",
    "\n",
    "def getmeaning():\n",
    "    f  = open(\"word.txt\" ,\"r\")\n",
    "    word = input(\"Enter the word : \")\n",
    "    if word in words_collected:\n",
    "        print('The meaning is : ', words_collected.get(word))\n",
    "        f.close()\n",
    "    else :\n",
    "        print(\"no such word exists\")\n",
    "\n",
    "def update_word():\n",
    "    f  = open(\"word.txt\" ,\"r\")\n",
    "    word = input(\"Enter the word : \")\n",
    "    if word in words_collected:\n",
    "        meaning=input('enter its meaning :')\n",
    "        words_collected[word] = meaning\n",
    "        f.close()\n",
    "    else :\n",
    "        print(\"no such word exists\")\n",
    "        \n",
    "\n",
    "            \n",
    "f = open('word.txt','w')\n",
    "words_collected = {}\n",
    "json.dump(words_collected,f)\n",
    "f.close()   \n",
    "    \n",
    "\n",
    "while True:\n",
    "    \n",
    "    ques()\n",
    "    x = input(\"Enter your option : \")  \n",
    "    \n",
    "    if x == \"1\":        \n",
    "        update()\n",
    "        print(\"*\"*60)    \n",
    "        \n",
    "    elif x == \"2\" :\n",
    "        getmeaning()\n",
    "        print(\"*\"*60)    \n",
    "        \n",
    "    elif x == \"3\":      \n",
    "        update_word\n",
    "        print(\"*\"*60)    \n",
    "    \n",
    "    elif x==\"4\":\n",
    "        print(\"Exit\")\n",
    "        print(\"*\"*60)            \n",
    "        break        \n",
    "    else:       \n",
    "        print(\"no option selected ! \")\n",
    "        print(\"*\"*60)           \n",
    "        break \n",
    "    "
   ]
  },
  {
   "cell_type": "code",
   "execution_count": null,
   "id": "c68adeff",
   "metadata": {},
   "outputs": [],
   "source": []
  },
  {
   "cell_type": "code",
   "execution_count": null,
   "id": "cb944450",
   "metadata": {},
   "outputs": [],
   "source": [
    "\n",
    "    \n",
    "    "
   ]
  },
  {
   "cell_type": "code",
   "execution_count": null,
   "id": "fcd45efc",
   "metadata": {},
   "outputs": [],
   "source": []
  },
  {
   "cell_type": "code",
   "execution_count": null,
   "id": "12c250b1",
   "metadata": {},
   "outputs": [],
   "source": []
  },
  {
   "cell_type": "code",
   "execution_count": null,
   "id": "ae3b1b1b",
   "metadata": {},
   "outputs": [],
   "source": []
  },
  {
   "cell_type": "code",
   "execution_count": null,
   "id": "09423647",
   "metadata": {},
   "outputs": [],
   "source": []
  },
  {
   "cell_type": "code",
   "execution_count": null,
   "id": "fc07fc75",
   "metadata": {},
   "outputs": [],
   "source": []
  }
 ],
 "metadata": {
  "kernelspec": {
   "display_name": "Python 3 (ipykernel)",
   "language": "python",
   "name": "python3"
  },
  "language_info": {
   "codemirror_mode": {
    "name": "ipython",
    "version": 3
   },
   "file_extension": ".py",
   "mimetype": "text/x-python",
   "name": "python",
   "nbconvert_exporter": "python",
   "pygments_lexer": "ipython3",
   "version": "3.9.16"
  }
 },
 "nbformat": 4,
 "nbformat_minor": 5
}
