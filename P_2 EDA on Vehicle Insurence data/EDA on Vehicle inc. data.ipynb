{
 "cells": [
  {
   "cell_type": "code",
   "execution_count": 1,
   "id": "9ec7d45b",
   "metadata": {},
   "outputs": [],
   "source": [
    "import pandas as pd\n",
    "import numpy as np"
   ]
  },
  {
   "cell_type": "code",
   "execution_count": 2,
   "id": "b37525b4",
   "metadata": {},
   "outputs": [],
   "source": [
    "data1 = pd.read_csv(r\"C:\\Users\\94407\\Downloads\\customer_details.csv\")\n",
    "data2 =pd.read_csv(r\"C:\\Users\\94407\\Downloads\\customer_policy_details.csv\")\n"
   ]
  },
  {
   "cell_type": "code",
   "execution_count": 3,
   "id": "80d32875",
   "metadata": {},
   "outputs": [],
   "source": [
    "data1.columns= [\"customer_id\" ,\n",
    "           \"Gender\",\"age\",\n",
    "           \"driving licence present\",\n",
    "           \"region code\",\n",
    "           \"previously insured\",\n",
    "           \"vehicle age\",\n",
    "           \"vehicle damage\"]\n",
    "data2.columns = [\"customer_id\",\n",
    "                 \"annual premium (in Rs)\",\n",
    "                 \"sales channel code\",\n",
    "                 \"vintage\" ,\n",
    "                 \"response\" ]"
   ]
  },
  {
   "cell_type": "markdown",
   "id": "2e76c5fc",
   "metadata": {},
   "source": [
    "### --------------------------------------------------------------------------------------------------------------------------------------------------------\n",
    "### 2. Checking and Cleaning Data Quality:\n",
    "\n",
    "i. Null values\n",
    "\n",
    "Generate a summary of count of all the null values column wise\n",
    "\n",
    "Drop Null values for customer_id because central tendencies for id’s is not feasible.\n",
    "\n",
    "Replace all null values for numeric columns by mean. \n",
    "\n",
    "Replace all null values for Categorical value by mode."
   ]
  },
  {
   "cell_type": "code",
   "execution_count": 4,
   "id": "95dceb46",
   "metadata": {},
   "outputs": [
    {
     "data": {
      "text/plain": [
       "386"
      ]
     },
     "execution_count": 4,
     "metadata": {},
     "output_type": "execute_result"
    }
   ],
   "source": [
    "df1 = pd.DataFrame(data = data1)\n",
    "df2 = pd.DataFrame(data = data2)\n",
    "\n",
    "df1.customer_id.isnull().sum()"
   ]
  },
  {
   "cell_type": "code",
   "execution_count": 5,
   "id": "7bac66cf",
   "metadata": {},
   "outputs": [
    {
     "data": {
      "text/html": [
       "<div>\n",
       "<style scoped>\n",
       "    .dataframe tbody tr th:only-of-type {\n",
       "        vertical-align: middle;\n",
       "    }\n",
       "\n",
       "    .dataframe tbody tr th {\n",
       "        vertical-align: top;\n",
       "    }\n",
       "\n",
       "    .dataframe thead th {\n",
       "        text-align: right;\n",
       "    }\n",
       "</style>\n",
       "<table border=\"1\" class=\"dataframe\">\n",
       "  <thead>\n",
       "    <tr style=\"text-align: right;\">\n",
       "      <th></th>\n",
       "      <th>customer_id</th>\n",
       "      <th>age</th>\n",
       "      <th>driving licence present</th>\n",
       "      <th>region code</th>\n",
       "      <th>previously insured</th>\n",
       "    </tr>\n",
       "  </thead>\n",
       "  <tbody>\n",
       "    <tr>\n",
       "      <th>count</th>\n",
       "      <td>380723.000000</td>\n",
       "      <td>380741.000000</td>\n",
       "      <td>380716.000000</td>\n",
       "      <td>380717.000000</td>\n",
       "      <td>380728.000000</td>\n",
       "    </tr>\n",
       "    <tr>\n",
       "      <th>mean</th>\n",
       "      <td>190548.776244</td>\n",
       "      <td>38.822827</td>\n",
       "      <td>0.997867</td>\n",
       "      <td>26.388575</td>\n",
       "      <td>0.458246</td>\n",
       "    </tr>\n",
       "    <tr>\n",
       "      <th>std</th>\n",
       "      <td>110016.805160</td>\n",
       "      <td>15.512120</td>\n",
       "      <td>0.046133</td>\n",
       "      <td>13.230361</td>\n",
       "      <td>0.498254</td>\n",
       "    </tr>\n",
       "    <tr>\n",
       "      <th>min</th>\n",
       "      <td>1.000000</td>\n",
       "      <td>20.000000</td>\n",
       "      <td>0.000000</td>\n",
       "      <td>0.000000</td>\n",
       "      <td>0.000000</td>\n",
       "    </tr>\n",
       "    <tr>\n",
       "      <th>25%</th>\n",
       "      <td>95269.500000</td>\n",
       "      <td>25.000000</td>\n",
       "      <td>1.000000</td>\n",
       "      <td>15.000000</td>\n",
       "      <td>0.000000</td>\n",
       "    </tr>\n",
       "    <tr>\n",
       "      <th>50%</th>\n",
       "      <td>190543.000000</td>\n",
       "      <td>36.000000</td>\n",
       "      <td>1.000000</td>\n",
       "      <td>28.000000</td>\n",
       "      <td>0.000000</td>\n",
       "    </tr>\n",
       "    <tr>\n",
       "      <th>75%</th>\n",
       "      <td>285822.500000</td>\n",
       "      <td>49.000000</td>\n",
       "      <td>1.000000</td>\n",
       "      <td>35.000000</td>\n",
       "      <td>1.000000</td>\n",
       "    </tr>\n",
       "    <tr>\n",
       "      <th>max</th>\n",
       "      <td>381109.000000</td>\n",
       "      <td>85.000000</td>\n",
       "      <td>1.000000</td>\n",
       "      <td>52.000000</td>\n",
       "      <td>1.000000</td>\n",
       "    </tr>\n",
       "  </tbody>\n",
       "</table>\n",
       "</div>"
      ],
      "text/plain": [
       "         customer_id            age  driving licence present    region code  \\\n",
       "count  380723.000000  380741.000000            380716.000000  380717.000000   \n",
       "mean   190548.776244      38.822827                 0.997867      26.388575   \n",
       "std    110016.805160      15.512120                 0.046133      13.230361   \n",
       "min         1.000000      20.000000                 0.000000       0.000000   \n",
       "25%     95269.500000      25.000000                 1.000000      15.000000   \n",
       "50%    190543.000000      36.000000                 1.000000      28.000000   \n",
       "75%    285822.500000      49.000000                 1.000000      35.000000   \n",
       "max    381109.000000      85.000000                 1.000000      52.000000   \n",
       "\n",
       "       previously insured  \n",
       "count       380728.000000  \n",
       "mean             0.458246  \n",
       "std              0.498254  \n",
       "min              0.000000  \n",
       "25%              0.000000  \n",
       "50%              0.000000  \n",
       "75%              1.000000  \n",
       "max              1.000000  "
      ]
     },
     "execution_count": 5,
     "metadata": {},
     "output_type": "execute_result"
    }
   ],
   "source": [
    "df1.describe()\n",
    "# Generate a summary of count of all the null values column wise"
   ]
  },
  {
   "cell_type": "code",
   "execution_count": 6,
   "id": "3e50b655",
   "metadata": {},
   "outputs": [
    {
     "data": {
      "text/html": [
       "<div>\n",
       "<style scoped>\n",
       "    .dataframe tbody tr th:only-of-type {\n",
       "        vertical-align: middle;\n",
       "    }\n",
       "\n",
       "    .dataframe tbody tr th {\n",
       "        vertical-align: top;\n",
       "    }\n",
       "\n",
       "    .dataframe thead th {\n",
       "        text-align: right;\n",
       "    }\n",
       "</style>\n",
       "<table border=\"1\" class=\"dataframe\">\n",
       "  <thead>\n",
       "    <tr style=\"text-align: right;\">\n",
       "      <th></th>\n",
       "      <th>customer_id</th>\n",
       "      <th>annual premium (in Rs)</th>\n",
       "      <th>sales channel code</th>\n",
       "      <th>vintage</th>\n",
       "      <th>response</th>\n",
       "    </tr>\n",
       "  </thead>\n",
       "  <tbody>\n",
       "    <tr>\n",
       "      <th>count</th>\n",
       "      <td>380722.000000</td>\n",
       "      <td>380763.000000</td>\n",
       "      <td>380709.000000</td>\n",
       "      <td>380721.000000</td>\n",
       "      <td>380748.000000</td>\n",
       "    </tr>\n",
       "    <tr>\n",
       "      <th>mean</th>\n",
       "      <td>190547.491663</td>\n",
       "      <td>30563.700273</td>\n",
       "      <td>112.035752</td>\n",
       "      <td>154.342437</td>\n",
       "      <td>0.122543</td>\n",
       "    </tr>\n",
       "    <tr>\n",
       "      <th>std</th>\n",
       "      <td>110013.824148</td>\n",
       "      <td>17200.257877</td>\n",
       "      <td>54.204942</td>\n",
       "      <td>83.669600</td>\n",
       "      <td>0.327912</td>\n",
       "    </tr>\n",
       "    <tr>\n",
       "      <th>min</th>\n",
       "      <td>1.000000</td>\n",
       "      <td>2630.000000</td>\n",
       "      <td>1.000000</td>\n",
       "      <td>10.000000</td>\n",
       "      <td>0.000000</td>\n",
       "    </tr>\n",
       "    <tr>\n",
       "      <th>25%</th>\n",
       "      <td>95276.250000</td>\n",
       "      <td>24406.000000</td>\n",
       "      <td>29.000000</td>\n",
       "      <td>82.000000</td>\n",
       "      <td>0.000000</td>\n",
       "    </tr>\n",
       "    <tr>\n",
       "      <th>50%</th>\n",
       "      <td>190536.500000</td>\n",
       "      <td>31668.000000</td>\n",
       "      <td>133.000000</td>\n",
       "      <td>154.000000</td>\n",
       "      <td>0.000000</td>\n",
       "    </tr>\n",
       "    <tr>\n",
       "      <th>75%</th>\n",
       "      <td>285818.750000</td>\n",
       "      <td>39400.000000</td>\n",
       "      <td>152.000000</td>\n",
       "      <td>227.000000</td>\n",
       "      <td>0.000000</td>\n",
       "    </tr>\n",
       "    <tr>\n",
       "      <th>max</th>\n",
       "      <td>381109.000000</td>\n",
       "      <td>540165.000000</td>\n",
       "      <td>163.000000</td>\n",
       "      <td>299.000000</td>\n",
       "      <td>1.000000</td>\n",
       "    </tr>\n",
       "  </tbody>\n",
       "</table>\n",
       "</div>"
      ],
      "text/plain": [
       "         customer_id  annual premium (in Rs)  sales channel code  \\\n",
       "count  380722.000000           380763.000000       380709.000000   \n",
       "mean   190547.491663            30563.700273          112.035752   \n",
       "std    110013.824148            17200.257877           54.204942   \n",
       "min         1.000000             2630.000000            1.000000   \n",
       "25%     95276.250000            24406.000000           29.000000   \n",
       "50%    190536.500000            31668.000000          133.000000   \n",
       "75%    285818.750000            39400.000000          152.000000   \n",
       "max    381109.000000           540165.000000          163.000000   \n",
       "\n",
       "             vintage       response  \n",
       "count  380721.000000  380748.000000  \n",
       "mean      154.342437       0.122543  \n",
       "std        83.669600       0.327912  \n",
       "min        10.000000       0.000000  \n",
       "25%        82.000000       0.000000  \n",
       "50%       154.000000       0.000000  \n",
       "75%       227.000000       0.000000  \n",
       "max       299.000000       1.000000  "
      ]
     },
     "execution_count": 6,
     "metadata": {},
     "output_type": "execute_result"
    }
   ],
   "source": [
    "df2.describe()"
   ]
  },
  {
   "cell_type": "code",
   "execution_count": 34,
   "id": "c974eaf2",
   "metadata": {},
   "outputs": [
    {
     "data": {
      "text/html": [
       "<div>\n",
       "<style scoped>\n",
       "    .dataframe tbody tr th:only-of-type {\n",
       "        vertical-align: middle;\n",
       "    }\n",
       "\n",
       "    .dataframe tbody tr th {\n",
       "        vertical-align: top;\n",
       "    }\n",
       "\n",
       "    .dataframe thead th {\n",
       "        text-align: right;\n",
       "    }\n",
       "</style>\n",
       "<table border=\"1\" class=\"dataframe\">\n",
       "  <thead>\n",
       "    <tr style=\"text-align: right;\">\n",
       "      <th></th>\n",
       "      <th>customer_id</th>\n",
       "      <th>Gender</th>\n",
       "      <th>age</th>\n",
       "      <th>driving licence present</th>\n",
       "      <th>region code</th>\n",
       "      <th>previously insured</th>\n",
       "      <th>vehicle age</th>\n",
       "      <th>vehicle damage</th>\n",
       "    </tr>\n",
       "  </thead>\n",
       "  <tbody>\n",
       "    <tr>\n",
       "      <th>0</th>\n",
       "      <td>1.0</td>\n",
       "      <td>Male</td>\n",
       "      <td>44.0</td>\n",
       "      <td>1.0</td>\n",
       "      <td>28.0</td>\n",
       "      <td>0.0</td>\n",
       "      <td>&gt; 2 Years</td>\n",
       "      <td>Yes</td>\n",
       "    </tr>\n",
       "    <tr>\n",
       "      <th>1</th>\n",
       "      <td>2.0</td>\n",
       "      <td>Male</td>\n",
       "      <td>76.0</td>\n",
       "      <td>1.0</td>\n",
       "      <td>3.0</td>\n",
       "      <td>0.0</td>\n",
       "      <td>1-2 Year</td>\n",
       "      <td>No</td>\n",
       "    </tr>\n",
       "    <tr>\n",
       "      <th>2</th>\n",
       "      <td>3.0</td>\n",
       "      <td>Male</td>\n",
       "      <td>47.0</td>\n",
       "      <td>1.0</td>\n",
       "      <td>28.0</td>\n",
       "      <td>0.0</td>\n",
       "      <td>&gt; 2 Years</td>\n",
       "      <td>Yes</td>\n",
       "    </tr>\n",
       "    <tr>\n",
       "      <th>3</th>\n",
       "      <td>4.0</td>\n",
       "      <td>Male</td>\n",
       "      <td>21.0</td>\n",
       "      <td>1.0</td>\n",
       "      <td>11.0</td>\n",
       "      <td>1.0</td>\n",
       "      <td>&lt; 1 Year</td>\n",
       "      <td>No</td>\n",
       "    </tr>\n",
       "    <tr>\n",
       "      <th>4</th>\n",
       "      <td>5.0</td>\n",
       "      <td>Female</td>\n",
       "      <td>29.0</td>\n",
       "      <td>1.0</td>\n",
       "      <td>41.0</td>\n",
       "      <td>1.0</td>\n",
       "      <td>&lt; 1 Year</td>\n",
       "      <td>No</td>\n",
       "    </tr>\n",
       "  </tbody>\n",
       "</table>\n",
       "</div>"
      ],
      "text/plain": [
       "   customer_id  Gender   age  driving licence present  region code  \\\n",
       "0          1.0    Male  44.0                      1.0         28.0   \n",
       "1          2.0    Male  76.0                      1.0          3.0   \n",
       "2          3.0    Male  47.0                      1.0         28.0   \n",
       "3          4.0    Male  21.0                      1.0         11.0   \n",
       "4          5.0  Female  29.0                      1.0         41.0   \n",
       "\n",
       "   previously insured vehicle age vehicle damage  \n",
       "0                 0.0   > 2 Years            Yes  \n",
       "1                 0.0    1-2 Year             No  \n",
       "2                 0.0   > 2 Years            Yes  \n",
       "3                 1.0    < 1 Year             No  \n",
       "4                 1.0    < 1 Year             No  "
      ]
     },
     "execution_count": 34,
     "metadata": {},
     "output_type": "execute_result"
    }
   ],
   "source": [
    "df1.head()"
   ]
  },
  {
   "cell_type": "code",
   "execution_count": 36,
   "id": "ce308eb1",
   "metadata": {},
   "outputs": [
    {
     "name": "stdout",
     "output_type": "stream",
     "text": [
      "(380723, 8)\n",
      "(380722, 5)\n"
     ]
    }
   ],
   "source": [
    "print(df1.shape)\n",
    "print(df2.shape)"
   ]
  },
  {
   "cell_type": "code",
   "execution_count": 7,
   "id": "f63dd859",
   "metadata": {},
   "outputs": [],
   "source": [
    "\n",
    "# df1.describe()\n",
    "# df1.customer_id.isnull().sum()\n",
    "\n",
    "\n",
    "df1.dropna(subset=[\"customer_id\"],inplace = True)"
   ]
  },
  {
   "cell_type": "code",
   "execution_count": 8,
   "id": "c25b1aec",
   "metadata": {},
   "outputs": [
    {
     "data": {
      "text/plain": [
       "customer_id                  0\n",
       "Gender                     368\n",
       "age                        366\n",
       "driving licence present    392\n",
       "region code                391\n",
       "previously insured         381\n",
       "vehicle age                381\n",
       "vehicle damage             406\n",
       "dtype: int64"
      ]
     },
     "execution_count": 8,
     "metadata": {},
     "output_type": "execute_result"
    }
   ],
   "source": [
    "df1.isnull().sum()\n",
    "# Drop Null values for customer_id because central tendencies for id’s is not feasible."
   ]
  },
  {
   "cell_type": "code",
   "execution_count": 9,
   "id": "fabf95ac",
   "metadata": {},
   "outputs": [
    {
     "data": {
      "text/plain": [
       "customer_id                  0\n",
       "Gender                     368\n",
       "age                          0\n",
       "driving licence present      0\n",
       "region code                  0\n",
       "previously insured           0\n",
       "vehicle age                381\n",
       "vehicle damage             406\n",
       "dtype: int64"
      ]
     },
     "execution_count": 9,
     "metadata": {},
     "output_type": "execute_result"
    }
   ],
   "source": [
    "df1.age.fillna(df1.age.mean(),inplace = True)\n",
    "df1[\"driving licence present\"].fillna(df1[\"driving licence present\"].mean(),inplace = True)\n",
    "df1[\"region code\"].fillna(df1[\"region code\"].mean(),inplace = True)\n",
    "df1[\"previously insured\"].fillna(df1[\"previously insured\"].mean(),inplace = True)\n",
    "df1.isnull().sum()\n",
    "# Replace all null values for numeric columns by mean."
   ]
  },
  {
   "cell_type": "code",
   "execution_count": 10,
   "id": "4af3ef87",
   "metadata": {},
   "outputs": [
    {
     "data": {
      "text/plain": [
       "customer_id                0\n",
       "Gender                     0\n",
       "age                        0\n",
       "driving licence present    0\n",
       "region code                0\n",
       "previously insured         0\n",
       "vehicle age                0\n",
       "vehicle damage             0\n",
       "dtype: int64"
      ]
     },
     "execution_count": 10,
     "metadata": {},
     "output_type": "execute_result"
    }
   ],
   "source": [
    "df1[\"Gender\"].fillna(df1[\"Gender\"].mode()[0],inplace = True)\n",
    "df1[\"vehicle age\"].fillna(df1[\"vehicle age\"].mode()[0],inplace = True)\n",
    "df1[\"vehicle damage\"].fillna(df1[\"vehicle damage\"].mode()[0],inplace = True)\n",
    "df1.isnull().sum()\n",
    "\n",
    "## customers_details table is cleaned (numeric values are filled with their column averages and cotegorial \n",
    "## columns null values are filled with their mode values)"
   ]
  },
  {
   "cell_type": "code",
   "execution_count": 11,
   "id": "8eb1ed3a",
   "metadata": {},
   "outputs": [
    {
     "name": "stdout",
     "output_type": "stream",
     "text": [
      "The null values in customer policy table : \n",
      " customer_id               387\n",
      "annual premium (in Rs)    346\n",
      "sales channel code        400\n",
      "vintage                   388\n",
      "response                  361\n",
      "dtype: int64\n",
      "The null values in customer policy table : \n",
      " customer_id                 0\n",
      "annual premium (in Rs)    344\n",
      "sales channel code        400\n",
      "vintage                   388\n",
      "response                  361\n",
      "dtype: int64\n"
     ]
    }
   ],
   "source": [
    "#  Lets do the same with the customer policy details table also\n",
    "print(\"The null values in customer policy table : \\n\",df2.isnull().sum())\n",
    "# Drop Null values for customer_id because central tendencies for id’s is not feasible.\n",
    "df2.dropna(subset=[\"customer_id\"],inplace = True)\n",
    "print(\"The null values in customer policy table : \\n\",df2.isnull().sum())"
   ]
  },
  {
   "cell_type": "code",
   "execution_count": 12,
   "id": "58d5bce3",
   "metadata": {},
   "outputs": [],
   "source": [
    "# Replace all null values for numeric columns by mean.\n",
    "\n",
    "df2[\"annual premium (in Rs)\"].fillna(df2[\"annual premium (in Rs)\"].mean(),inplace = True)"
   ]
  },
  {
   "cell_type": "code",
   "execution_count": 13,
   "id": "a6a40484",
   "metadata": {},
   "outputs": [
    {
     "name": "stdout",
     "output_type": "stream",
     "text": [
      "The null values in customer policy table : \n",
      " customer_id                 0\n",
      "annual premium (in Rs)      0\n",
      "sales channel code        400\n",
      "vintage                   388\n",
      "response                  361\n",
      "dtype: int64\n"
     ]
    }
   ],
   "source": [
    "df2.head()\n",
    "print(\"The null values in customer policy table : \\n\",df2.isnull().sum())"
   ]
  },
  {
   "cell_type": "code",
   "execution_count": 14,
   "id": "4bfb3fc3",
   "metadata": {},
   "outputs": [
    {
     "name": "stdout",
     "output_type": "stream",
     "text": [
      "The null values in customer policy table : \n",
      " customer_id                 0\n",
      "annual premium (in Rs)      0\n",
      "sales channel code        400\n",
      "vintage                   388\n",
      "response                  361\n",
      "dtype: int64\n"
     ]
    }
   ],
   "source": [
    "df2[\"sales channel code\"].value_counts().count() # sales channel code column has 155 values == > categorial\n",
    "df2[\"vintage\"].value_counts().count() # vintage column has 290 values == > categorial\n",
    "df2[\"response\"].value_counts().count() # vintage column has 2 values == > categorial\n",
    "#  So we replace the null values with the mode of the column\n",
    "print(\"The null values in customer policy table : \\n\",df2.isnull().sum())"
   ]
  },
  {
   "cell_type": "code",
   "execution_count": 15,
   "id": "0cafd059",
   "metadata": {},
   "outputs": [
    {
     "name": "stdout",
     "output_type": "stream",
     "text": [
      "The null values in customer policy table : \n",
      " customer_id               0\n",
      "annual premium (in Rs)    0\n",
      "sales channel code        0\n",
      "vintage                   0\n",
      "response                  0\n",
      "dtype: int64\n"
     ]
    }
   ],
   "source": [
    "df2[\"sales channel code\"].fillna(df2[\"sales channel code\"].mode()[0],inplace = True)\n",
    "df2[\"vintage\"].fillna(df2[\"vintage\"].mode()[0],inplace = True)\n",
    "df2[\"response\"].fillna(df2[\"response\"].mode()[0],inplace = True)\n",
    "print(\"The null values in customer policy table : \\n\",df2.isnull().sum())"
   ]
  },
  {
   "cell_type": "markdown",
   "id": "d3cbbef8",
   "metadata": {},
   "source": [
    "Cleaning the data from both the tables has finished"
   ]
  },
  {
   "cell_type": "code",
   "execution_count": null,
   "id": "8b67256e",
   "metadata": {},
   "outputs": [],
   "source": []
  },
  {
   "cell_type": "markdown",
   "id": "db53ef09",
   "metadata": {},
   "source": [
    "ii. Outliers\n",
    "\n",
    "Generate a summary of count of all the outliers column wise\n",
    "Replace all outlier values for numeric columns by mean. \n",
    "(Hint1: for outlier treatment use IQR method as follows:\n",
    "\n",
    "For example: for a column X calculate Q1 = 25th percentile and Q3 = 75th percentile then IQR = Q3 – Q1 ) then to check outlier, anything lower than a Q1 – 1.5IQR or greater than Q3 + 1.5 IQR would be an outlier\n",
    "\n",
    "Hint2: For getting percentile value, explore pd.describe() function)"
   ]
  },
  {
   "cell_type": "code",
   "execution_count": 16,
   "id": "69e3bb6c",
   "metadata": {},
   "outputs": [
    {
     "data": {
      "text/html": [
       "<div>\n",
       "<style scoped>\n",
       "    .dataframe tbody tr th:only-of-type {\n",
       "        vertical-align: middle;\n",
       "    }\n",
       "\n",
       "    .dataframe tbody tr th {\n",
       "        vertical-align: top;\n",
       "    }\n",
       "\n",
       "    .dataframe thead th {\n",
       "        text-align: right;\n",
       "    }\n",
       "</style>\n",
       "<table border=\"1\" class=\"dataframe\">\n",
       "  <thead>\n",
       "    <tr style=\"text-align: right;\">\n",
       "      <th></th>\n",
       "      <th>customer_id</th>\n",
       "      <th>age</th>\n",
       "      <th>driving licence present</th>\n",
       "      <th>region code</th>\n",
       "      <th>previously insured</th>\n",
       "    </tr>\n",
       "  </thead>\n",
       "  <tbody>\n",
       "    <tr>\n",
       "      <th>count</th>\n",
       "      <td>380723.000000</td>\n",
       "      <td>380723.000000</td>\n",
       "      <td>380723.000000</td>\n",
       "      <td>380723.000000</td>\n",
       "      <td>380723.000000</td>\n",
       "    </tr>\n",
       "    <tr>\n",
       "      <th>mean</th>\n",
       "      <td>190548.776244</td>\n",
       "      <td>38.822788</td>\n",
       "      <td>0.997868</td>\n",
       "      <td>26.389436</td>\n",
       "      <td>0.458259</td>\n",
       "    </tr>\n",
       "    <tr>\n",
       "      <th>std</th>\n",
       "      <td>110016.805160</td>\n",
       "      <td>15.504826</td>\n",
       "      <td>0.046104</td>\n",
       "      <td>13.223671</td>\n",
       "      <td>0.498006</td>\n",
       "    </tr>\n",
       "    <tr>\n",
       "      <th>min</th>\n",
       "      <td>1.000000</td>\n",
       "      <td>20.000000</td>\n",
       "      <td>0.000000</td>\n",
       "      <td>0.000000</td>\n",
       "      <td>0.000000</td>\n",
       "    </tr>\n",
       "    <tr>\n",
       "      <th>25%</th>\n",
       "      <td>95269.500000</td>\n",
       "      <td>25.000000</td>\n",
       "      <td>1.000000</td>\n",
       "      <td>15.000000</td>\n",
       "      <td>0.000000</td>\n",
       "    </tr>\n",
       "    <tr>\n",
       "      <th>50%</th>\n",
       "      <td>190543.000000</td>\n",
       "      <td>36.000000</td>\n",
       "      <td>1.000000</td>\n",
       "      <td>28.000000</td>\n",
       "      <td>0.000000</td>\n",
       "    </tr>\n",
       "    <tr>\n",
       "      <th>75%</th>\n",
       "      <td>285822.500000</td>\n",
       "      <td>49.000000</td>\n",
       "      <td>1.000000</td>\n",
       "      <td>35.000000</td>\n",
       "      <td>1.000000</td>\n",
       "    </tr>\n",
       "    <tr>\n",
       "      <th>max</th>\n",
       "      <td>381109.000000</td>\n",
       "      <td>85.000000</td>\n",
       "      <td>1.000000</td>\n",
       "      <td>52.000000</td>\n",
       "      <td>1.000000</td>\n",
       "    </tr>\n",
       "  </tbody>\n",
       "</table>\n",
       "</div>"
      ],
      "text/plain": [
       "         customer_id            age  driving licence present    region code  \\\n",
       "count  380723.000000  380723.000000            380723.000000  380723.000000   \n",
       "mean   190548.776244      38.822788                 0.997868      26.389436   \n",
       "std    110016.805160      15.504826                 0.046104      13.223671   \n",
       "min         1.000000      20.000000                 0.000000       0.000000   \n",
       "25%     95269.500000      25.000000                 1.000000      15.000000   \n",
       "50%    190543.000000      36.000000                 1.000000      28.000000   \n",
       "75%    285822.500000      49.000000                 1.000000      35.000000   \n",
       "max    381109.000000      85.000000                 1.000000      52.000000   \n",
       "\n",
       "       previously insured  \n",
       "count       380723.000000  \n",
       "mean             0.458259  \n",
       "std              0.498006  \n",
       "min              0.000000  \n",
       "25%              0.000000  \n",
       "50%              0.000000  \n",
       "75%              1.000000  \n",
       "max              1.000000  "
      ]
     },
     "execution_count": 16,
     "metadata": {},
     "output_type": "execute_result"
    }
   ],
   "source": [
    "df1.describe()"
   ]
  },
  {
   "cell_type": "code",
   "execution_count": 17,
   "id": "c8b735d8",
   "metadata": {},
   "outputs": [],
   "source": [
    "# q1_age,q3_age = np.percentile(df1.age,[25,75])\n",
    "# print(q1_age,q3_age)\n",
    "# q1_dlp ,q3_dlp = np.percentile(df1[\"driving licence present\"],[25,75])\n",
    "# # print(q1_dlp,q2_dlp)"
   ]
  },
  {
   "cell_type": "code",
   "execution_count": 18,
   "id": "30e61c80",
   "metadata": {},
   "outputs": [],
   "source": [
    "# iqr = q3_age -q1_age\n",
    "# lower_iqr_range = q1_age -(1.5 * iqr)\n",
    "# higher_iqr_range = q3_age +(1.5 * iqr)\n",
    "# print(lower_iqr_range ,higher_iqr_range)# There are no -ve age in the age column"
   ]
  },
  {
   "cell_type": "code",
   "execution_count": 19,
   "id": "1e43212c",
   "metadata": {},
   "outputs": [],
   "source": [
    "# df1[df1.age > higher_iqr_range].age.sum() # there are 0 outliers in the age column"
   ]
  },
  {
   "cell_type": "code",
   "execution_count": 20,
   "id": "44f1651b",
   "metadata": {},
   "outputs": [
    {
     "name": "stdout",
     "output_type": "stream",
     "text": [
      "No. Outliers greater then in age column :\t 0.0\n",
      "No. Outliers lesser then in age column :\t 0.0\n"
     ]
    }
   ],
   "source": [
    "def iqr_range(col):\n",
    "    q1,q3 = np.percentile(col,[25,75]) \n",
    "#     print(q1,q3)\n",
    "    iqr = q3-q1\n",
    "    low_iqr_lvl = q1 -(1.5*iqr)\n",
    "    high_iqr_lvl = q3 + (1.5*iqr)   \n",
    "#     print(\"Higher IQR Range : \" ,high_iqr_lvl )\n",
    "#     print(\"Lower IQR Range : \" ,low_iqr_lvl )\n",
    "    return [low_iqr_lvl,high_iqr_lvl]\n",
    "    \n",
    "    \n",
    "\n",
    "iqr_range(df1.age)\n",
    "print(\"No. Outliers greater then in age column :\\t\",df1[df1[\"age\"] > iqr_range(df1.age)[1] ].age.sum())\n",
    "print(\"No. Outliers lesser then in age column :\\t\",df1[df1[\"age\"] < iqr_range(df1.age)[0] ].age.sum())\n",
    "# There are 0 outliers in Age column"
   ]
  },
  {
   "cell_type": "code",
   "execution_count": 21,
   "id": "e1fd8b0c",
   "metadata": {},
   "outputs": [
    {
     "name": "stdout",
     "output_type": "stream",
     "text": [
      "1-2 Year     200283\n",
      "< 1 Year     164468\n",
      "> 2 Years     15972\n",
      "Name: vehicle age, dtype: int64\n",
      "1.000000    379520\n",
      "0.000000       811\n",
      "0.997868       392\n",
      "Name: driving licence present, dtype: int64\n"
     ]
    }
   ],
   "source": [
    "print(df1[\"vehicle age\"].value_counts())\n",
    "print(df1[\"driving licence present\"].value_counts())\n",
    "# I didnot implement iqr on other columns because allother columns are categorial type "
   ]
  },
  {
   "cell_type": "markdown",
   "id": "bfb97c1a",
   "metadata": {},
   "source": [
    "lets find the number of outliers in the policy details table"
   ]
  },
  {
   "cell_type": "code",
   "execution_count": 22,
   "id": "7b183e24",
   "metadata": {},
   "outputs": [
    {
     "data": {
      "text/html": [
       "<div>\n",
       "<style scoped>\n",
       "    .dataframe tbody tr th:only-of-type {\n",
       "        vertical-align: middle;\n",
       "    }\n",
       "\n",
       "    .dataframe tbody tr th {\n",
       "        vertical-align: top;\n",
       "    }\n",
       "\n",
       "    .dataframe thead th {\n",
       "        text-align: right;\n",
       "    }\n",
       "</style>\n",
       "<table border=\"1\" class=\"dataframe\">\n",
       "  <thead>\n",
       "    <tr style=\"text-align: right;\">\n",
       "      <th></th>\n",
       "      <th>customer_id</th>\n",
       "      <th>annual premium (in Rs)</th>\n",
       "      <th>sales channel code</th>\n",
       "      <th>vintage</th>\n",
       "      <th>response</th>\n",
       "    </tr>\n",
       "  </thead>\n",
       "  <tbody>\n",
       "    <tr>\n",
       "      <th>count</th>\n",
       "      <td>380722.000000</td>\n",
       "      <td>380722.000000</td>\n",
       "      <td>380722.000000</td>\n",
       "      <td>380722.000000</td>\n",
       "      <td>380722.000000</td>\n",
       "    </tr>\n",
       "    <tr>\n",
       "      <th>mean</th>\n",
       "      <td>190547.491663</td>\n",
       "      <td>30563.999774</td>\n",
       "      <td>112.078674</td>\n",
       "      <td>154.450788</td>\n",
       "      <td>0.122410</td>\n",
       "    </tr>\n",
       "    <tr>\n",
       "      <th>std</th>\n",
       "      <td>110013.824148</td>\n",
       "      <td>17190.147550</td>\n",
       "      <td>54.192513</td>\n",
       "      <td>83.690971</td>\n",
       "      <td>0.327759</td>\n",
       "    </tr>\n",
       "    <tr>\n",
       "      <th>min</th>\n",
       "      <td>1.000000</td>\n",
       "      <td>2630.000000</td>\n",
       "      <td>1.000000</td>\n",
       "      <td>10.000000</td>\n",
       "      <td>0.000000</td>\n",
       "    </tr>\n",
       "    <tr>\n",
       "      <th>25%</th>\n",
       "      <td>95276.250000</td>\n",
       "      <td>24416.000000</td>\n",
       "      <td>29.000000</td>\n",
       "      <td>82.000000</td>\n",
       "      <td>0.000000</td>\n",
       "    </tr>\n",
       "    <tr>\n",
       "      <th>50%</th>\n",
       "      <td>190536.500000</td>\n",
       "      <td>31656.000000</td>\n",
       "      <td>136.000000</td>\n",
       "      <td>154.000000</td>\n",
       "      <td>0.000000</td>\n",
       "    </tr>\n",
       "    <tr>\n",
       "      <th>75%</th>\n",
       "      <td>285818.750000</td>\n",
       "      <td>39391.750000</td>\n",
       "      <td>152.000000</td>\n",
       "      <td>227.000000</td>\n",
       "      <td>0.000000</td>\n",
       "    </tr>\n",
       "    <tr>\n",
       "      <th>max</th>\n",
       "      <td>381109.000000</td>\n",
       "      <td>540165.000000</td>\n",
       "      <td>163.000000</td>\n",
       "      <td>299.000000</td>\n",
       "      <td>1.000000</td>\n",
       "    </tr>\n",
       "  </tbody>\n",
       "</table>\n",
       "</div>"
      ],
      "text/plain": [
       "         customer_id  annual premium (in Rs)  sales channel code  \\\n",
       "count  380722.000000           380722.000000       380722.000000   \n",
       "mean   190547.491663            30563.999774          112.078674   \n",
       "std    110013.824148            17190.147550           54.192513   \n",
       "min         1.000000             2630.000000            1.000000   \n",
       "25%     95276.250000            24416.000000           29.000000   \n",
       "50%    190536.500000            31656.000000          136.000000   \n",
       "75%    285818.750000            39391.750000          152.000000   \n",
       "max    381109.000000           540165.000000          163.000000   \n",
       "\n",
       "             vintage       response  \n",
       "count  380722.000000  380722.000000  \n",
       "mean      154.450788       0.122410  \n",
       "std        83.690971       0.327759  \n",
       "min        10.000000       0.000000  \n",
       "25%        82.000000       0.000000  \n",
       "50%       154.000000       0.000000  \n",
       "75%       227.000000       0.000000  \n",
       "max       299.000000       1.000000  "
      ]
     },
     "execution_count": 22,
     "metadata": {},
     "output_type": "execute_result"
    }
   ],
   "source": [
    "df2.describe()"
   ]
  },
  {
   "cell_type": "code",
   "execution_count": 23,
   "id": "4e89bcba",
   "metadata": {},
   "outputs": [
    {
     "data": {
      "text/plain": [
       "[1952.375, 61855.375]"
      ]
     },
     "execution_count": 23,
     "metadata": {},
     "output_type": "execute_result"
    }
   ],
   "source": [
    "iqr_range(df2[\"annual premium (in Rs)\"])"
   ]
  },
  {
   "cell_type": "code",
   "execution_count": 24,
   "id": "26c51700",
   "metadata": {},
   "outputs": [
    {
     "name": "stdout",
     "output_type": "stream",
     "text": [
      "No. Outliers greater then in annual premium (in Rs) column :\t 10332\n",
      "No. Outliers lesser  then in annual premium (in Rs) column :\t 0\n"
     ]
    }
   ],
   "source": [
    "print(\"No. Outliers greater then in annual premium (in Rs) column :\\t\",df2[df2[\"annual premium (in Rs)\"] > iqr_range(df2[\"annual premium (in Rs)\"])[1] ][\"annual premium (in Rs)\"].count())\n",
    "print(\"No. Outliers lesser  then in annual premium (in Rs) column :\\t\",df2[df2[\"annual premium (in Rs)\"] < iqr_range(df2[\"annual premium (in Rs)\"])[0] ][\"annual premium (in Rs)\"].count())\n",
    "# There are 0 outliers in Age column"
   ]
  },
  {
   "cell_type": "markdown",
   "id": "ff6a932b",
   "metadata": {},
   "source": [
    "### There are zero outliers in the customer detail (age column)\n",
    "### but we get 10332 values in the policy details (annual premium (in Rs) column) "
   ]
  },
  {
   "cell_type": "markdown",
   "id": "5fc37861",
   "metadata": {},
   "source": [
    "### --------------------------------------------------------------------------------------------------------------------------------------------------------\n",
    "### 3. Create a Master table for future use. Join the customer table and customer_policy table to get a master table using customer_id in both tables.\n",
    "\n",
    "(Hint: use pd.merge() function)"
   ]
  },
  {
   "cell_type": "code",
   "execution_count": 25,
   "id": "4631ef10",
   "metadata": {},
   "outputs": [
    {
     "data": {
      "text/html": [
       "<div>\n",
       "<style scoped>\n",
       "    .dataframe tbody tr th:only-of-type {\n",
       "        vertical-align: middle;\n",
       "    }\n",
       "\n",
       "    .dataframe tbody tr th {\n",
       "        vertical-align: top;\n",
       "    }\n",
       "\n",
       "    .dataframe thead th {\n",
       "        text-align: right;\n",
       "    }\n",
       "</style>\n",
       "<table border=\"1\" class=\"dataframe\">\n",
       "  <thead>\n",
       "    <tr style=\"text-align: right;\">\n",
       "      <th></th>\n",
       "      <th>customer_id</th>\n",
       "      <th>Gender</th>\n",
       "      <th>age</th>\n",
       "      <th>driving licence present</th>\n",
       "      <th>region code</th>\n",
       "      <th>previously insured</th>\n",
       "      <th>vehicle age</th>\n",
       "      <th>vehicle damage</th>\n",
       "    </tr>\n",
       "  </thead>\n",
       "  <tbody>\n",
       "    <tr>\n",
       "      <th>0</th>\n",
       "      <td>1.0</td>\n",
       "      <td>Male</td>\n",
       "      <td>44.0</td>\n",
       "      <td>1.0</td>\n",
       "      <td>28.0</td>\n",
       "      <td>0.0</td>\n",
       "      <td>&gt; 2 Years</td>\n",
       "      <td>Yes</td>\n",
       "    </tr>\n",
       "    <tr>\n",
       "      <th>1</th>\n",
       "      <td>2.0</td>\n",
       "      <td>Male</td>\n",
       "      <td>76.0</td>\n",
       "      <td>1.0</td>\n",
       "      <td>3.0</td>\n",
       "      <td>0.0</td>\n",
       "      <td>1-2 Year</td>\n",
       "      <td>No</td>\n",
       "    </tr>\n",
       "    <tr>\n",
       "      <th>2</th>\n",
       "      <td>3.0</td>\n",
       "      <td>Male</td>\n",
       "      <td>47.0</td>\n",
       "      <td>1.0</td>\n",
       "      <td>28.0</td>\n",
       "      <td>0.0</td>\n",
       "      <td>&gt; 2 Years</td>\n",
       "      <td>Yes</td>\n",
       "    </tr>\n",
       "    <tr>\n",
       "      <th>3</th>\n",
       "      <td>4.0</td>\n",
       "      <td>Male</td>\n",
       "      <td>21.0</td>\n",
       "      <td>1.0</td>\n",
       "      <td>11.0</td>\n",
       "      <td>1.0</td>\n",
       "      <td>&lt; 1 Year</td>\n",
       "      <td>No</td>\n",
       "    </tr>\n",
       "    <tr>\n",
       "      <th>4</th>\n",
       "      <td>5.0</td>\n",
       "      <td>Female</td>\n",
       "      <td>29.0</td>\n",
       "      <td>1.0</td>\n",
       "      <td>41.0</td>\n",
       "      <td>1.0</td>\n",
       "      <td>&lt; 1 Year</td>\n",
       "      <td>No</td>\n",
       "    </tr>\n",
       "  </tbody>\n",
       "</table>\n",
       "</div>"
      ],
      "text/plain": [
       "   customer_id  Gender   age  driving licence present  region code  \\\n",
       "0          1.0    Male  44.0                      1.0         28.0   \n",
       "1          2.0    Male  76.0                      1.0          3.0   \n",
       "2          3.0    Male  47.0                      1.0         28.0   \n",
       "3          4.0    Male  21.0                      1.0         11.0   \n",
       "4          5.0  Female  29.0                      1.0         41.0   \n",
       "\n",
       "   previously insured vehicle age vehicle damage  \n",
       "0                 0.0   > 2 Years            Yes  \n",
       "1                 0.0    1-2 Year             No  \n",
       "2                 0.0   > 2 Years            Yes  \n",
       "3                 1.0    < 1 Year             No  \n",
       "4                 1.0    < 1 Year             No  "
      ]
     },
     "execution_count": 25,
     "metadata": {},
     "output_type": "execute_result"
    }
   ],
   "source": [
    "df1.head()"
   ]
  },
  {
   "cell_type": "code",
   "execution_count": 26,
   "id": "8a4152a9",
   "metadata": {},
   "outputs": [
    {
     "data": {
      "text/html": [
       "<div>\n",
       "<style scoped>\n",
       "    .dataframe tbody tr th:only-of-type {\n",
       "        vertical-align: middle;\n",
       "    }\n",
       "\n",
       "    .dataframe tbody tr th {\n",
       "        vertical-align: top;\n",
       "    }\n",
       "\n",
       "    .dataframe thead th {\n",
       "        text-align: right;\n",
       "    }\n",
       "</style>\n",
       "<table border=\"1\" class=\"dataframe\">\n",
       "  <thead>\n",
       "    <tr style=\"text-align: right;\">\n",
       "      <th></th>\n",
       "      <th>customer_id</th>\n",
       "      <th>annual premium (in Rs)</th>\n",
       "      <th>sales channel code</th>\n",
       "      <th>vintage</th>\n",
       "      <th>response</th>\n",
       "    </tr>\n",
       "  </thead>\n",
       "  <tbody>\n",
       "    <tr>\n",
       "      <th>0</th>\n",
       "      <td>1.0</td>\n",
       "      <td>40454.0</td>\n",
       "      <td>26.0</td>\n",
       "      <td>217.0</td>\n",
       "      <td>1.0</td>\n",
       "    </tr>\n",
       "    <tr>\n",
       "      <th>1</th>\n",
       "      <td>2.0</td>\n",
       "      <td>33536.0</td>\n",
       "      <td>26.0</td>\n",
       "      <td>183.0</td>\n",
       "      <td>0.0</td>\n",
       "    </tr>\n",
       "    <tr>\n",
       "      <th>2</th>\n",
       "      <td>3.0</td>\n",
       "      <td>38294.0</td>\n",
       "      <td>26.0</td>\n",
       "      <td>27.0</td>\n",
       "      <td>1.0</td>\n",
       "    </tr>\n",
       "    <tr>\n",
       "      <th>3</th>\n",
       "      <td>4.0</td>\n",
       "      <td>28619.0</td>\n",
       "      <td>152.0</td>\n",
       "      <td>203.0</td>\n",
       "      <td>0.0</td>\n",
       "    </tr>\n",
       "    <tr>\n",
       "      <th>4</th>\n",
       "      <td>5.0</td>\n",
       "      <td>27496.0</td>\n",
       "      <td>152.0</td>\n",
       "      <td>39.0</td>\n",
       "      <td>0.0</td>\n",
       "    </tr>\n",
       "  </tbody>\n",
       "</table>\n",
       "</div>"
      ],
      "text/plain": [
       "   customer_id  annual premium (in Rs)  sales channel code  vintage  response\n",
       "0          1.0                 40454.0                26.0    217.0       1.0\n",
       "1          2.0                 33536.0                26.0    183.0       0.0\n",
       "2          3.0                 38294.0                26.0     27.0       1.0\n",
       "3          4.0                 28619.0               152.0    203.0       0.0\n",
       "4          5.0                 27496.0               152.0     39.0       0.0"
      ]
     },
     "execution_count": 26,
     "metadata": {},
     "output_type": "execute_result"
    }
   ],
   "source": [
    "df2.head()"
   ]
  },
  {
   "cell_type": "code",
   "execution_count": 27,
   "id": "41fb7552",
   "metadata": {},
   "outputs": [
    {
     "data": {
      "text/html": [
       "<div>\n",
       "<style scoped>\n",
       "    .dataframe tbody tr th:only-of-type {\n",
       "        vertical-align: middle;\n",
       "    }\n",
       "\n",
       "    .dataframe tbody tr th {\n",
       "        vertical-align: top;\n",
       "    }\n",
       "\n",
       "    .dataframe thead th {\n",
       "        text-align: right;\n",
       "    }\n",
       "</style>\n",
       "<table border=\"1\" class=\"dataframe\">\n",
       "  <thead>\n",
       "    <tr style=\"text-align: right;\">\n",
       "      <th></th>\n",
       "      <th>customer_id</th>\n",
       "      <th>Gender</th>\n",
       "      <th>age</th>\n",
       "      <th>driving licence present</th>\n",
       "      <th>region code</th>\n",
       "      <th>previously insured</th>\n",
       "      <th>vehicle age</th>\n",
       "      <th>vehicle damage</th>\n",
       "      <th>annual premium (in Rs)</th>\n",
       "      <th>sales channel code</th>\n",
       "      <th>vintage</th>\n",
       "      <th>response</th>\n",
       "    </tr>\n",
       "  </thead>\n",
       "  <tbody>\n",
       "    <tr>\n",
       "      <th>0</th>\n",
       "      <td>1.0</td>\n",
       "      <td>Male</td>\n",
       "      <td>44.0</td>\n",
       "      <td>1.0</td>\n",
       "      <td>28.0</td>\n",
       "      <td>0.0</td>\n",
       "      <td>&gt; 2 Years</td>\n",
       "      <td>Yes</td>\n",
       "      <td>40454.0</td>\n",
       "      <td>26.0</td>\n",
       "      <td>217.0</td>\n",
       "      <td>1.0</td>\n",
       "    </tr>\n",
       "    <tr>\n",
       "      <th>1</th>\n",
       "      <td>2.0</td>\n",
       "      <td>Male</td>\n",
       "      <td>76.0</td>\n",
       "      <td>1.0</td>\n",
       "      <td>3.0</td>\n",
       "      <td>0.0</td>\n",
       "      <td>1-2 Year</td>\n",
       "      <td>No</td>\n",
       "      <td>33536.0</td>\n",
       "      <td>26.0</td>\n",
       "      <td>183.0</td>\n",
       "      <td>0.0</td>\n",
       "    </tr>\n",
       "    <tr>\n",
       "      <th>2</th>\n",
       "      <td>3.0</td>\n",
       "      <td>Male</td>\n",
       "      <td>47.0</td>\n",
       "      <td>1.0</td>\n",
       "      <td>28.0</td>\n",
       "      <td>0.0</td>\n",
       "      <td>&gt; 2 Years</td>\n",
       "      <td>Yes</td>\n",
       "      <td>38294.0</td>\n",
       "      <td>26.0</td>\n",
       "      <td>27.0</td>\n",
       "      <td>1.0</td>\n",
       "    </tr>\n",
       "    <tr>\n",
       "      <th>3</th>\n",
       "      <td>4.0</td>\n",
       "      <td>Male</td>\n",
       "      <td>21.0</td>\n",
       "      <td>1.0</td>\n",
       "      <td>11.0</td>\n",
       "      <td>1.0</td>\n",
       "      <td>&lt; 1 Year</td>\n",
       "      <td>No</td>\n",
       "      <td>28619.0</td>\n",
       "      <td>152.0</td>\n",
       "      <td>203.0</td>\n",
       "      <td>0.0</td>\n",
       "    </tr>\n",
       "    <tr>\n",
       "      <th>4</th>\n",
       "      <td>5.0</td>\n",
       "      <td>Female</td>\n",
       "      <td>29.0</td>\n",
       "      <td>1.0</td>\n",
       "      <td>41.0</td>\n",
       "      <td>1.0</td>\n",
       "      <td>&lt; 1 Year</td>\n",
       "      <td>No</td>\n",
       "      <td>27496.0</td>\n",
       "      <td>152.0</td>\n",
       "      <td>39.0</td>\n",
       "      <td>0.0</td>\n",
       "    </tr>\n",
       "  </tbody>\n",
       "</table>\n",
       "</div>"
      ],
      "text/plain": [
       "   customer_id  Gender   age  driving licence present  region code  \\\n",
       "0          1.0    Male  44.0                      1.0         28.0   \n",
       "1          2.0    Male  76.0                      1.0          3.0   \n",
       "2          3.0    Male  47.0                      1.0         28.0   \n",
       "3          4.0    Male  21.0                      1.0         11.0   \n",
       "4          5.0  Female  29.0                      1.0         41.0   \n",
       "\n",
       "   previously insured vehicle age vehicle damage  annual premium (in Rs)  \\\n",
       "0                 0.0   > 2 Years            Yes                 40454.0   \n",
       "1                 0.0    1-2 Year             No                 33536.0   \n",
       "2                 0.0   > 2 Years            Yes                 38294.0   \n",
       "3                 1.0    < 1 Year             No                 28619.0   \n",
       "4                 1.0    < 1 Year             No                 27496.0   \n",
       "\n",
       "   sales channel code  vintage  response  \n",
       "0                26.0    217.0       1.0  \n",
       "1                26.0    183.0       0.0  \n",
       "2                26.0     27.0       1.0  \n",
       "3               152.0    203.0       0.0  \n",
       "4               152.0     39.0       0.0  "
      ]
     },
     "execution_count": 27,
     "metadata": {},
     "output_type": "execute_result"
    }
   ],
   "source": [
    "m_table = pd.merge(df1,df2,on= \"customer_id\")\n",
    "m_table.head()"
   ]
  },
  {
   "cell_type": "code",
   "execution_count": null,
   "id": "207c164c",
   "metadata": {},
   "outputs": [],
   "source": []
  },
  {
   "cell_type": "code",
   "execution_count": null,
   "id": "b3aacefb",
   "metadata": {},
   "outputs": [],
   "source": []
  },
  {
   "cell_type": "markdown",
   "id": "be553ba3",
   "metadata": {},
   "source": [
    "### --------------------------------------------------------------------------------------------------------------------------------------------------------\n",
    "### 4. Company needs some important information from the master table to make decisions for future growth.They needs following information:\n",
    "\n",
    " i. Gender wise average annual premium\n",
    "\n",
    "ii. Age wise average annual premium\n",
    "\n",
    "iii. Is your data balanced between the genders?\n",
    "\n",
    "          (Hint: Data is balanced if number of counts in each group is approximately same)\n",
    "\n",
    "iv. Vehicle age wise average annual premium."
   ]
  },
  {
   "cell_type": "code",
   "execution_count": 28,
   "id": "2718b8b2",
   "metadata": {},
   "outputs": [
    {
     "data": {
      "text/plain": [
       "Gender\n",
       "Female    30492.028478\n",
       "Male      30623.619273\n",
       "Name: annual premium (in Rs), dtype: float64"
      ]
     },
     "execution_count": 28,
     "metadata": {},
     "output_type": "execute_result"
    }
   ],
   "source": [
    "# i. Gender wise average annual premium\n",
    "m_table.groupby(by = [\"Gender\"])[\"annual premium (in Rs)\"].mean()"
   ]
  },
  {
   "cell_type": "code",
   "execution_count": 29,
   "id": "14459d8c",
   "metadata": {},
   "outputs": [
    {
     "data": {
      "text/plain": [
       "age\n",
       "20.0    26924.620173\n",
       "21.0    30564.475810\n",
       "22.0    30823.778102\n",
       "23.0    30688.606298\n",
       "24.0    31183.802890\n",
       "            ...     \n",
       "81.0    31201.571429\n",
       "82.0    37705.379310\n",
       "83.0    31012.727273\n",
       "84.0    35440.818182\n",
       "85.0    29792.363636\n",
       "Name: annual premium (in Rs), Length: 67, dtype: float64"
      ]
     },
     "execution_count": 29,
     "metadata": {},
     "output_type": "execute_result"
    }
   ],
   "source": [
    "# ii. Age wise average annual premium\n",
    "m_table.groupby(by = [\"age\"])[\"annual premium (in Rs)\"].mean()"
   ]
  },
  {
   "cell_type": "code",
   "execution_count": 30,
   "id": "a8093da0",
   "metadata": {},
   "outputs": [
    {
     "data": {
      "text/plain": [
       "Gender\n",
       "Female    174485\n",
       "Male      205851\n",
       "Name: customer_id, dtype: int64"
      ]
     },
     "execution_count": 30,
     "metadata": {},
     "output_type": "execute_result"
    }
   ],
   "source": [
    "# iii. Is your data balanced between the genders?\n",
    "m_table.groupby(by = [\"Gender\"]).count()[\"customer_id\"]\n",
    "\n",
    "#  No The data is not balanced between the genders"
   ]
  },
  {
   "cell_type": "code",
   "execution_count": 31,
   "id": "8eb662d8",
   "metadata": {
    "collapsed": true
   },
   "outputs": [
    {
     "data": {
      "text/html": [
       "<div>\n",
       "<style scoped>\n",
       "    .dataframe tbody tr th:only-of-type {\n",
       "        vertical-align: middle;\n",
       "    }\n",
       "\n",
       "    .dataframe tbody tr th {\n",
       "        vertical-align: top;\n",
       "    }\n",
       "\n",
       "    .dataframe thead th {\n",
       "        text-align: right;\n",
       "    }\n",
       "</style>\n",
       "<table border=\"1\" class=\"dataframe\">\n",
       "  <thead>\n",
       "    <tr style=\"text-align: right;\">\n",
       "      <th></th>\n",
       "      <th>customer_id</th>\n",
       "      <th>Gender</th>\n",
       "      <th>age</th>\n",
       "      <th>driving licence present</th>\n",
       "      <th>region code</th>\n",
       "      <th>previously insured</th>\n",
       "      <th>vehicle age</th>\n",
       "      <th>vehicle damage</th>\n",
       "      <th>annual premium (in Rs)</th>\n",
       "      <th>sales channel code</th>\n",
       "      <th>vintage</th>\n",
       "      <th>response</th>\n",
       "    </tr>\n",
       "  </thead>\n",
       "  <tbody>\n",
       "    <tr>\n",
       "      <th>0</th>\n",
       "      <td>1.0</td>\n",
       "      <td>Male</td>\n",
       "      <td>44.0</td>\n",
       "      <td>1.0</td>\n",
       "      <td>28.0</td>\n",
       "      <td>0.0</td>\n",
       "      <td>&gt; 2 Years</td>\n",
       "      <td>Yes</td>\n",
       "      <td>40454.0</td>\n",
       "      <td>26.0</td>\n",
       "      <td>217.0</td>\n",
       "      <td>1.0</td>\n",
       "    </tr>\n",
       "    <tr>\n",
       "      <th>1</th>\n",
       "      <td>2.0</td>\n",
       "      <td>Male</td>\n",
       "      <td>76.0</td>\n",
       "      <td>1.0</td>\n",
       "      <td>3.0</td>\n",
       "      <td>0.0</td>\n",
       "      <td>1-2 Year</td>\n",
       "      <td>No</td>\n",
       "      <td>33536.0</td>\n",
       "      <td>26.0</td>\n",
       "      <td>183.0</td>\n",
       "      <td>0.0</td>\n",
       "    </tr>\n",
       "    <tr>\n",
       "      <th>2</th>\n",
       "      <td>3.0</td>\n",
       "      <td>Male</td>\n",
       "      <td>47.0</td>\n",
       "      <td>1.0</td>\n",
       "      <td>28.0</td>\n",
       "      <td>0.0</td>\n",
       "      <td>&gt; 2 Years</td>\n",
       "      <td>Yes</td>\n",
       "      <td>38294.0</td>\n",
       "      <td>26.0</td>\n",
       "      <td>27.0</td>\n",
       "      <td>1.0</td>\n",
       "    </tr>\n",
       "    <tr>\n",
       "      <th>3</th>\n",
       "      <td>4.0</td>\n",
       "      <td>Male</td>\n",
       "      <td>21.0</td>\n",
       "      <td>1.0</td>\n",
       "      <td>11.0</td>\n",
       "      <td>1.0</td>\n",
       "      <td>&lt; 1 Year</td>\n",
       "      <td>No</td>\n",
       "      <td>28619.0</td>\n",
       "      <td>152.0</td>\n",
       "      <td>203.0</td>\n",
       "      <td>0.0</td>\n",
       "    </tr>\n",
       "    <tr>\n",
       "      <th>4</th>\n",
       "      <td>5.0</td>\n",
       "      <td>Female</td>\n",
       "      <td>29.0</td>\n",
       "      <td>1.0</td>\n",
       "      <td>41.0</td>\n",
       "      <td>1.0</td>\n",
       "      <td>&lt; 1 Year</td>\n",
       "      <td>No</td>\n",
       "      <td>27496.0</td>\n",
       "      <td>152.0</td>\n",
       "      <td>39.0</td>\n",
       "      <td>0.0</td>\n",
       "    </tr>\n",
       "  </tbody>\n",
       "</table>\n",
       "</div>"
      ],
      "text/plain": [
       "   customer_id  Gender   age  driving licence present  region code  \\\n",
       "0          1.0    Male  44.0                      1.0         28.0   \n",
       "1          2.0    Male  76.0                      1.0          3.0   \n",
       "2          3.0    Male  47.0                      1.0         28.0   \n",
       "3          4.0    Male  21.0                      1.0         11.0   \n",
       "4          5.0  Female  29.0                      1.0         41.0   \n",
       "\n",
       "   previously insured vehicle age vehicle damage  annual premium (in Rs)  \\\n",
       "0                 0.0   > 2 Years            Yes                 40454.0   \n",
       "1                 0.0    1-2 Year             No                 33536.0   \n",
       "2                 0.0   > 2 Years            Yes                 38294.0   \n",
       "3                 1.0    < 1 Year             No                 28619.0   \n",
       "4                 1.0    < 1 Year             No                 27496.0   \n",
       "\n",
       "   sales channel code  vintage  response  \n",
       "0                26.0    217.0       1.0  \n",
       "1                26.0    183.0       0.0  \n",
       "2                26.0     27.0       1.0  \n",
       "3               152.0    203.0       0.0  \n",
       "4               152.0     39.0       0.0  "
      ]
     },
     "execution_count": 31,
     "metadata": {},
     "output_type": "execute_result"
    }
   ],
   "source": [
    "m_table.head()"
   ]
  },
  {
   "cell_type": "code",
   "execution_count": 32,
   "id": "ff0bfaab",
   "metadata": {},
   "outputs": [
    {
     "data": {
      "text/plain": [
       "vehicle age\n",
       "1-2 Year     30524.629840\n",
       "< 1 Year     30115.716367\n",
       "> 2 Years    35657.520845\n",
       "Name: annual premium (in Rs), dtype: float64"
      ]
     },
     "execution_count": 32,
     "metadata": {},
     "output_type": "execute_result"
    }
   ],
   "source": [
    "# iv. Vehicle age wise average annual premium.\n",
    "m_table.groupby(by = \"vehicle age\")[\"annual premium (in Rs)\"].mean()"
   ]
  },
  {
   "cell_type": "markdown",
   "id": "a0c296c4",
   "metadata": {},
   "source": [
    "### --------------------------------------------------------------------------------------------------------------------------------------------------------\n",
    "### 5. Is there any relation between Person Age and annual premium?\n",
    "\n",
    "Hint: use correlation function (Correlation describes the relationship between two variables). \n",
    "\n",
    "Correlation coefficient < -0.5           - Strong negative relationship\n",
    "\n",
    "Correlation coefficient > 0.5            -  Strong positive relationship\n",
    "\n",
    "0.5 < Correlation coefficient < 0.5   - There is no relationship. "
   ]
  },
  {
   "cell_type": "code",
   "execution_count": 33,
   "id": "26f2d32e",
   "metadata": {
    "scrolled": true
   },
   "outputs": [
    {
     "name": "stdout",
     "output_type": "stream",
     "text": [
      "0.06771515986613927\n"
     ]
    }
   ],
   "source": [
    "corr = m_table[\"age\"].corr(m_table[\"annual premium (in Rs)\"])\n",
    "print(corr)"
   ]
  },
  {
   "cell_type": "markdown",
   "id": "6d3f877e",
   "metadata": {},
   "source": [
    "Correlation coefficient  = 0.067715\n",
    "\n",
    "#### correlation coefficient is between  -0.5 and 0.5 ==> No Relationship\n",
    "\n",
    "Which is less than 0.5"
   ]
  },
  {
   "cell_type": "code",
   "execution_count": null,
   "id": "9946085e",
   "metadata": {},
   "outputs": [],
   "source": []
  }
 ],
 "metadata": {
  "kernelspec": {
   "display_name": "Python 3 (ipykernel)",
   "language": "python",
   "name": "python3"
  },
  "language_info": {
   "codemirror_mode": {
    "name": "ipython",
    "version": 3
   },
   "file_extension": ".py",
   "mimetype": "text/x-python",
   "name": "python",
   "nbconvert_exporter": "python",
   "pygments_lexer": "ipython3",
   "version": "3.9.16"
  }
 },
 "nbformat": 4,
 "nbformat_minor": 5
}
